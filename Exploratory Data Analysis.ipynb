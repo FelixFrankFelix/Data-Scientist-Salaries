{
 "cells": [
  {
   "cell_type": "markdown",
   "id": "6f151767",
   "metadata": {},
   "source": [
    "##### Data Exploration"
   ]
  },
  {
   "cell_type": "code",
   "execution_count": 35,
   "id": "17bc074c",
   "metadata": {},
   "outputs": [],
   "source": [
    "import pandas as pd\n",
    "import matplotlib.pyplot as plt\n",
    "import seaborn as sns\n",
    "\n",
    "df = pd.read_csv(\"data_cleaned.csv\")"
   ]
  },
  {
   "cell_type": "code",
   "execution_count": 36,
   "id": "e94a3892",
   "metadata": {
    "scrolled": true
   },
   "outputs": [
    {
     "data": {
      "text/html": [
       "<div>\n",
       "<style scoped>\n",
       "    .dataframe tbody tr th:only-of-type {\n",
       "        vertical-align: middle;\n",
       "    }\n",
       "\n",
       "    .dataframe tbody tr th {\n",
       "        vertical-align: top;\n",
       "    }\n",
       "\n",
       "    .dataframe thead th {\n",
       "        text-align: right;\n",
       "    }\n",
       "</style>\n",
       "<table border=\"1\" class=\"dataframe\">\n",
       "  <thead>\n",
       "    <tr style=\"text-align: right;\">\n",
       "      <th></th>\n",
       "      <th>work_year</th>\n",
       "      <th>experience_level</th>\n",
       "      <th>employment_type</th>\n",
       "      <th>job_title</th>\n",
       "      <th>salary_currency</th>\n",
       "      <th>salary_in_usd</th>\n",
       "      <th>employee_residence</th>\n",
       "      <th>remote_ratio</th>\n",
       "      <th>company_location</th>\n",
       "      <th>company_size</th>\n",
       "      <th>senior</th>\n",
       "      <th>roles</th>\n",
       "    </tr>\n",
       "  </thead>\n",
       "  <tbody>\n",
       "    <tr>\n",
       "      <th>0</th>\n",
       "      <td>2020</td>\n",
       "      <td>MI</td>\n",
       "      <td>FT</td>\n",
       "      <td>Data Scientist</td>\n",
       "      <td>EUR</td>\n",
       "      <td>79833</td>\n",
       "      <td>DE</td>\n",
       "      <td>0.0</td>\n",
       "      <td>DE</td>\n",
       "      <td>L</td>\n",
       "      <td>0</td>\n",
       "      <td>DS</td>\n",
       "    </tr>\n",
       "    <tr>\n",
       "      <th>1</th>\n",
       "      <td>2020</td>\n",
       "      <td>SE</td>\n",
       "      <td>FT</td>\n",
       "      <td>Machine Learning Scientist</td>\n",
       "      <td>USD</td>\n",
       "      <td>260000</td>\n",
       "      <td>JP</td>\n",
       "      <td>0.0</td>\n",
       "      <td>JP</td>\n",
       "      <td>S</td>\n",
       "      <td>0</td>\n",
       "      <td>ML</td>\n",
       "    </tr>\n",
       "    <tr>\n",
       "      <th>2</th>\n",
       "      <td>2020</td>\n",
       "      <td>SE</td>\n",
       "      <td>FT</td>\n",
       "      <td>Big Data Engineer</td>\n",
       "      <td>GBP</td>\n",
       "      <td>109024</td>\n",
       "      <td>GB</td>\n",
       "      <td>0.5</td>\n",
       "      <td>GB</td>\n",
       "      <td>M</td>\n",
       "      <td>0</td>\n",
       "      <td>DE</td>\n",
       "    </tr>\n",
       "    <tr>\n",
       "      <th>3</th>\n",
       "      <td>2020</td>\n",
       "      <td>MI</td>\n",
       "      <td>FT</td>\n",
       "      <td>Product Data Analyst</td>\n",
       "      <td>USD</td>\n",
       "      <td>20000</td>\n",
       "      <td>HN</td>\n",
       "      <td>0.0</td>\n",
       "      <td>HN</td>\n",
       "      <td>S</td>\n",
       "      <td>0</td>\n",
       "      <td>AN</td>\n",
       "    </tr>\n",
       "    <tr>\n",
       "      <th>4</th>\n",
       "      <td>2020</td>\n",
       "      <td>SE</td>\n",
       "      <td>FT</td>\n",
       "      <td>Machine Learning Engineer</td>\n",
       "      <td>USD</td>\n",
       "      <td>150000</td>\n",
       "      <td>US</td>\n",
       "      <td>0.5</td>\n",
       "      <td>US</td>\n",
       "      <td>L</td>\n",
       "      <td>0</td>\n",
       "      <td>ML</td>\n",
       "    </tr>\n",
       "  </tbody>\n",
       "</table>\n",
       "</div>"
      ],
      "text/plain": [
       "   work_year experience_level employment_type                   job_title  \\\n",
       "0       2020               MI              FT              Data Scientist   \n",
       "1       2020               SE              FT  Machine Learning Scientist   \n",
       "2       2020               SE              FT           Big Data Engineer   \n",
       "3       2020               MI              FT        Product Data Analyst   \n",
       "4       2020               SE              FT   Machine Learning Engineer   \n",
       "\n",
       "  salary_currency  salary_in_usd employee_residence  remote_ratio  \\\n",
       "0             EUR          79833                 DE           0.0   \n",
       "1             USD         260000                 JP           0.0   \n",
       "2             GBP         109024                 GB           0.5   \n",
       "3             USD          20000                 HN           0.0   \n",
       "4             USD         150000                 US           0.5   \n",
       "\n",
       "  company_location company_size  senior roles  \n",
       "0               DE            L       0    DS  \n",
       "1               JP            S       0    ML  \n",
       "2               GB            M       0    DE  \n",
       "3               HN            S       0    AN  \n",
       "4               US            L       0    ML  "
      ]
     },
     "execution_count": 36,
     "metadata": {},
     "output_type": "execute_result"
    }
   ],
   "source": [
    "df.head()"
   ]
  },
  {
   "cell_type": "code",
   "execution_count": 37,
   "id": "09812b1c",
   "metadata": {},
   "outputs": [
    {
     "data": {
      "text/plain": [
       "['work_year',\n",
       " 'experience_level',\n",
       " 'employment_type',\n",
       " 'job_title',\n",
       " 'salary_currency',\n",
       " 'salary_in_usd',\n",
       " 'employee_residence',\n",
       " 'remote_ratio',\n",
       " 'company_location',\n",
       " 'company_size',\n",
       " 'senior',\n",
       " 'roles']"
      ]
     },
     "execution_count": 37,
     "metadata": {},
     "output_type": "execute_result"
    }
   ],
   "source": [
    "df.columns.to_list()"
   ]
  },
  {
   "cell_type": "code",
   "execution_count": 38,
   "id": "d5549f02",
   "metadata": {},
   "outputs": [
    {
     "data": {
      "text/html": [
       "<div>\n",
       "<style scoped>\n",
       "    .dataframe tbody tr th:only-of-type {\n",
       "        vertical-align: middle;\n",
       "    }\n",
       "\n",
       "    .dataframe tbody tr th {\n",
       "        vertical-align: top;\n",
       "    }\n",
       "\n",
       "    .dataframe thead th {\n",
       "        text-align: right;\n",
       "    }\n",
       "</style>\n",
       "<table border=\"1\" class=\"dataframe\">\n",
       "  <thead>\n",
       "    <tr style=\"text-align: right;\">\n",
       "      <th></th>\n",
       "      <th>work_year</th>\n",
       "      <th>salary_in_usd</th>\n",
       "      <th>remote_ratio</th>\n",
       "      <th>senior</th>\n",
       "    </tr>\n",
       "  </thead>\n",
       "  <tbody>\n",
       "    <tr>\n",
       "      <th>count</th>\n",
       "      <td>607.000000</td>\n",
       "      <td>607.000000</td>\n",
       "      <td>607.000000</td>\n",
       "      <td>607.000000</td>\n",
       "    </tr>\n",
       "    <tr>\n",
       "      <th>mean</th>\n",
       "      <td>2021.405272</td>\n",
       "      <td>112297.869852</td>\n",
       "      <td>0.709226</td>\n",
       "      <td>0.074135</td>\n",
       "    </tr>\n",
       "    <tr>\n",
       "      <th>std</th>\n",
       "      <td>0.692133</td>\n",
       "      <td>70957.259411</td>\n",
       "      <td>0.407091</td>\n",
       "      <td>0.262207</td>\n",
       "    </tr>\n",
       "    <tr>\n",
       "      <th>min</th>\n",
       "      <td>2020.000000</td>\n",
       "      <td>2859.000000</td>\n",
       "      <td>0.000000</td>\n",
       "      <td>0.000000</td>\n",
       "    </tr>\n",
       "    <tr>\n",
       "      <th>25%</th>\n",
       "      <td>2021.000000</td>\n",
       "      <td>62726.000000</td>\n",
       "      <td>0.500000</td>\n",
       "      <td>0.000000</td>\n",
       "    </tr>\n",
       "    <tr>\n",
       "      <th>50%</th>\n",
       "      <td>2022.000000</td>\n",
       "      <td>101570.000000</td>\n",
       "      <td>1.000000</td>\n",
       "      <td>0.000000</td>\n",
       "    </tr>\n",
       "    <tr>\n",
       "      <th>75%</th>\n",
       "      <td>2022.000000</td>\n",
       "      <td>150000.000000</td>\n",
       "      <td>1.000000</td>\n",
       "      <td>0.000000</td>\n",
       "    </tr>\n",
       "    <tr>\n",
       "      <th>max</th>\n",
       "      <td>2022.000000</td>\n",
       "      <td>600000.000000</td>\n",
       "      <td>1.000000</td>\n",
       "      <td>1.000000</td>\n",
       "    </tr>\n",
       "  </tbody>\n",
       "</table>\n",
       "</div>"
      ],
      "text/plain": [
       "         work_year  salary_in_usd  remote_ratio      senior\n",
       "count   607.000000     607.000000    607.000000  607.000000\n",
       "mean   2021.405272  112297.869852      0.709226    0.074135\n",
       "std       0.692133   70957.259411      0.407091    0.262207\n",
       "min    2020.000000    2859.000000      0.000000    0.000000\n",
       "25%    2021.000000   62726.000000      0.500000    0.000000\n",
       "50%    2022.000000  101570.000000      1.000000    0.000000\n",
       "75%    2022.000000  150000.000000      1.000000    0.000000\n",
       "max    2022.000000  600000.000000      1.000000    1.000000"
      ]
     },
     "execution_count": 38,
     "metadata": {},
     "output_type": "execute_result"
    }
   ],
   "source": [
    "df.describe()"
   ]
  },
  {
   "cell_type": "code",
   "execution_count": 39,
   "id": "4da3fd9c",
   "metadata": {},
   "outputs": [
    {
     "data": {
      "text/html": [
       "<div>\n",
       "<style scoped>\n",
       "    .dataframe tbody tr th:only-of-type {\n",
       "        vertical-align: middle;\n",
       "    }\n",
       "\n",
       "    .dataframe tbody tr th {\n",
       "        vertical-align: top;\n",
       "    }\n",
       "\n",
       "    .dataframe thead th {\n",
       "        text-align: right;\n",
       "    }\n",
       "</style>\n",
       "<table border=\"1\" class=\"dataframe\">\n",
       "  <thead>\n",
       "    <tr style=\"text-align: right;\">\n",
       "      <th></th>\n",
       "      <th>work_year</th>\n",
       "      <th>salary_in_usd</th>\n",
       "      <th>remote_ratio</th>\n",
       "      <th>senior</th>\n",
       "    </tr>\n",
       "  </thead>\n",
       "  <tbody>\n",
       "    <tr>\n",
       "      <th>work_year</th>\n",
       "      <td>1.000000</td>\n",
       "      <td>0.170493</td>\n",
       "      <td>0.076314</td>\n",
       "      <td>-0.129455</td>\n",
       "    </tr>\n",
       "    <tr>\n",
       "      <th>salary_in_usd</th>\n",
       "      <td>0.170493</td>\n",
       "      <td>1.000000</td>\n",
       "      <td>0.132122</td>\n",
       "      <td>0.246784</td>\n",
       "    </tr>\n",
       "    <tr>\n",
       "      <th>remote_ratio</th>\n",
       "      <td>0.076314</td>\n",
       "      <td>0.132122</td>\n",
       "      <td>1.000000</td>\n",
       "      <td>0.009041</td>\n",
       "    </tr>\n",
       "    <tr>\n",
       "      <th>senior</th>\n",
       "      <td>-0.129455</td>\n",
       "      <td>0.246784</td>\n",
       "      <td>0.009041</td>\n",
       "      <td>1.000000</td>\n",
       "    </tr>\n",
       "  </tbody>\n",
       "</table>\n",
       "</div>"
      ],
      "text/plain": [
       "               work_year  salary_in_usd  remote_ratio    senior\n",
       "work_year       1.000000       0.170493      0.076314 -0.129455\n",
       "salary_in_usd   0.170493       1.000000      0.132122  0.246784\n",
       "remote_ratio    0.076314       0.132122      1.000000  0.009041\n",
       "senior         -0.129455       0.246784      0.009041  1.000000"
      ]
     },
     "execution_count": 39,
     "metadata": {},
     "output_type": "execute_result"
    }
   ],
   "source": [
    "df.corr()"
   ]
  },
  {
   "cell_type": "code",
   "execution_count": 40,
   "id": "6068c5ab",
   "metadata": {},
   "outputs": [
    {
     "data": {
      "text/plain": [
       "work_year        0.170493\n",
       "salary_in_usd    1.000000\n",
       "remote_ratio     0.132122\n",
       "senior           0.246784\n",
       "Name: salary_in_usd, dtype: float64"
      ]
     },
     "execution_count": 40,
     "metadata": {},
     "output_type": "execute_result"
    }
   ],
   "source": [
    "df.corr().salary_in_usd"
   ]
  },
  {
   "cell_type": "code",
   "execution_count": 41,
   "id": "1ca705d4",
   "metadata": {},
   "outputs": [
    {
     "data": {
      "text/plain": [
       "<AxesSubplot:>"
      ]
     },
     "execution_count": 41,
     "metadata": {},
     "output_type": "execute_result"
    },
    {
     "data": {
      "image/png": "[encoded data removed]",
      "text/plain": [
       "<Figure size 432x288 with 2 Axes>"
      ]
     },
     "metadata": {
      "needs_background": "light"
     },
     "output_type": "display_data"
    }
   ],
   "source": [
    "sns.heatmap(df.corr())"
   ]
  },
  {
   "cell_type": "code",
   "execution_count": 42,
   "id": "1648b5a2",
   "metadata": {},
   "outputs": [
    {
     "data": {
      "text/plain": [
       "Index(['work_year', 'experience_level', 'employment_type', 'job_title',\n",
       "       'salary_currency', 'salary_in_usd', 'employee_residence',\n",
       "       'remote_ratio', 'company_location', 'company_size', 'senior', 'roles'],\n",
       "      dtype='object')"
      ]
     },
     "execution_count": 42,
     "metadata": {},
     "output_type": "execute_result"
    }
   ],
   "source": [
    "df.columns"
   ]
  },
  {
   "cell_type": "code",
   "execution_count": 43,
   "id": "c6f14205",
   "metadata": {},
   "outputs": [
    {
     "data": {
      "text/plain": [
       "SE    280\n",
       "MI    213\n",
       "EN     88\n",
       "EX     26\n",
       "Name: experience_level, dtype: int64"
      ]
     },
     "execution_count": 43,
     "metadata": {},
     "output_type": "execute_result"
    }
   ],
   "source": [
    "df['experience_level'].value_counts()"
   ]
  },
  {
   "cell_type": "code",
   "execution_count": 44,
   "id": "d55f8a95",
   "metadata": {},
   "outputs": [
    {
     "data": {
      "text/plain": [
       "([<matplotlib.patches.Wedge at 0x2b06b479bb0>,\n",
       "  <matplotlib.patches.Wedge at 0x2b06b3e13d0>,\n",
       "  <matplotlib.patches.Wedge at 0x2b06b3cd3a0>,\n",
       "  <matplotlib.patches.Wedge at 0x2b06b3cd1f0>],\n",
       " [Text(0.1395261931580278, 1.1415044640398166, 'MI'),\n",
       "  Text(-0.7183891320283002, -0.8330168395558553, 'SE'),\n",
       "  Text(0.8236521438616164, -0.7291070880962296, 'EN'),\n",
       "  Text(1.0900556489518896, -0.14757602172465184, 'EX')],\n",
       " [Text(0.07886263091540702, 0.6451981753268528, '46%'),\n",
       "  Text(-0.39184861746998195, -0.454372821575921, '35%'),\n",
       "  Text(0.44926480574269984, -0.3976947753252161, '14%'),\n",
       "  Text(0.5945758085192124, -0.08049601184981008, '4%')])"
      ]
     },
     "execution_count": 44,
     "metadata": {},
     "output_type": "execute_result"
    },
    {
     "data": {
      "image/png": "[encoded data removed]",
      "text/plain": [
       "<Figure size 432x288 with 1 Axes>"
      ]
     },
     "metadata": {},
     "output_type": "display_data"
    }
   ],
   "source": [
    "plt.pie(df.experience_level.value_counts(), labels = df.experience_level.unique(), autopct =\"%.0f%%\", explode = [0.05,0,0,0])"
   ]
  },
  {
   "cell_type": "code",
   "execution_count": 45,
   "id": "7576bda4",
   "metadata": {},
   "outputs": [
    {
     "data": {
      "text/plain": [
       "experience_level\n",
       "EX    199392.038462\n",
       "SE    138617.292857\n",
       "MI     87996.056338\n",
       "EN     61643.318182\n",
       "Name: salary_in_usd, dtype: float64"
      ]
     },
     "execution_count": 45,
     "metadata": {},
     "output_type": "execute_result"
    }
   ],
   "source": [
    "df.groupby('experience_level').salary_in_usd.mean().sort_values(ascending = False)"
   ]
  },
  {
   "cell_type": "code",
   "execution_count": null,
   "id": "dde8fd7c",
   "metadata": {},
   "outputs": [],
   "source": []
  },
  {
   "cell_type": "code",
   "execution_count": 46,
   "id": "da10cfb9",
   "metadata": {},
   "outputs": [
    {
     "data": {
      "text/plain": [
       "FT    588\n",
       "PT     10\n",
       "CT      5\n",
       "FL      4\n",
       "Name: employment_type, dtype: int64"
      ]
     },
     "execution_count": 46,
     "metadata": {},
     "output_type": "execute_result"
    }
   ],
   "source": [
    "df['employment_type'].value_counts()"
   ]
  },
  {
   "cell_type": "code",
   "execution_count": 47,
   "id": "9a9a59a5",
   "metadata": {},
   "outputs": [
    {
     "data": {
      "text/plain": [
       "([<matplotlib.patches.Wedge at 0x2b06b0a26a0>,\n",
       "  <matplotlib.patches.Wedge at 0x2b06b0a2f70>,\n",
       "  <matplotlib.patches.Wedge at 0x2b06ae07a90>,\n",
       "  <matplotlib.patches.Wedge at 0x2b06b3c12e0>],\n",
       " [Text(-1.1942026268941568, 0.11781377644017466, 'FT'),\n",
       "  Text(1.0884696758156491, -0.1588513922815151, 'CT'),\n",
       "  Text(1.0975110902171534, -0.07395543827437838, 'PT'),\n",
       "  Text(1.0997642815615354, -0.022771144052073963, 'FL')],\n",
       " [Text(-0.6966181990215914, 0.0687247029234352, '97%'),\n",
       "  Text(0.5937107322630814, -0.0866462139717355, '2%'),\n",
       "  Text(0.5986424128457201, -0.040339329967842744, '1%'),\n",
       "  Text(0.599871426306292, -0.012420624028403979, '1%')])"
      ]
     },
     "execution_count": 47,
     "metadata": {},
     "output_type": "execute_result"
    },
    {
     "data": {
      "image/png": "[encoded data removed]",
      "text/plain": [
       "<Figure size 432x288 with 1 Axes>"
      ]
     },
     "metadata": {},
     "output_type": "display_data"
    }
   ],
   "source": [
    "plt.pie(df.employment_type.value_counts(), labels = df.employment_type.unique(), autopct =\"%.0f%%\", explode = [.1,0,0,0])"
   ]
  },
  {
   "cell_type": "code",
   "execution_count": 48,
   "id": "57b588b8",
   "metadata": {},
   "outputs": [
    {
     "data": {
      "text/plain": [
       "employment_type\n",
       "CT    184575.000000\n",
       "FT    113468.073129\n",
       "FL     48000.000000\n",
       "PT     33070.500000\n",
       "Name: salary_in_usd, dtype: float64"
      ]
     },
     "execution_count": 48,
     "metadata": {},
     "output_type": "execute_result"
    }
   ],
   "source": [
    "df.groupby('employment_type').salary_in_usd.mean().sort_values(ascending = False)"
   ]
  },
  {
   "cell_type": "code",
   "execution_count": 49,
   "id": "cdc0187a",
   "metadata": {},
   "outputs": [
    {
     "data": {
      "text/plain": [
       "salary_currency\n",
       "USD    137264.788945\n",
       "CHF    122346.000000\n",
       "SGD    104176.500000\n",
       "CAD     97222.888889\n",
       "AUD     87064.000000\n",
       "GBP     81670.977273\n",
       "EUR     65751.473684\n",
       "JPY     60921.333333\n",
       "CNY     40283.500000\n",
       "CLP     40038.000000\n",
       "DKK     37252.500000\n",
       "PLN     36887.666667\n",
       "HUF     35997.000000\n",
       "INR     27765.555556\n",
       "TRY     20096.666667\n",
       "MXN     18185.000000\n",
       "BRL     15904.000000\n",
       "Name: salary_in_usd, dtype: float64"
      ]
     },
     "execution_count": 49,
     "metadata": {},
     "output_type": "execute_result"
    }
   ],
   "source": [
    "df.groupby('salary_currency').salary_in_usd.mean().sort_values(ascending = False)"
   ]
  },
  {
   "cell_type": "code",
   "execution_count": 50,
   "id": "5c35e858",
   "metadata": {},
   "outputs": [
    {
     "data": {
      "text/plain": [
       "USD    398\n",
       "EUR     95\n",
       "GBP     44\n",
       "INR     27\n",
       "CAD     18\n",
       "JPY      3\n",
       "PLN      3\n",
       "TRY      3\n",
       "CNY      2\n",
       "MXN      2\n",
       "HUF      2\n",
       "DKK      2\n",
       "SGD      2\n",
       "BRL      2\n",
       "AUD      2\n",
       "CLP      1\n",
       "CHF      1\n",
       "Name: salary_currency, dtype: int64"
      ]
     },
     "execution_count": 50,
     "metadata": {},
     "output_type": "execute_result"
    }
   ],
   "source": [
    "df['salary_currency'].value_counts()"
   ]
  },
  {
   "cell_type": "code",
   "execution_count": 51,
   "id": "a27b85e2",
   "metadata": {},
   "outputs": [
    {
     "data": {
      "text/plain": [
       "US    332\n",
       "GB     44\n",
       "IN     30\n",
       "CA     29\n",
       "DE     25\n",
       "FR     18\n",
       "ES     15\n",
       "GR     13\n",
       "JP      7\n",
       "PT      6\n",
       "BR      6\n",
       "PK      6\n",
       "NL      5\n",
       "PL      4\n",
       "IT      4\n",
       "RU      4\n",
       "AE      3\n",
       "AT      3\n",
       "VN      3\n",
       "TR      3\n",
       "AU      3\n",
       "RO      2\n",
       "BE      2\n",
       "SG      2\n",
       "SI      2\n",
       "DK      2\n",
       "HU      2\n",
       "NG      2\n",
       "MX      2\n",
       "BO      1\n",
       "MY      1\n",
       "TN      1\n",
       "IE      1\n",
       "DZ      1\n",
       "AR      1\n",
       "CZ      1\n",
       "JE      1\n",
       "LU      1\n",
       "PR      1\n",
       "RS      1\n",
       "EE      1\n",
       "CL      1\n",
       "HK      1\n",
       "KE      1\n",
       "MD      1\n",
       "CO      1\n",
       "IR      1\n",
       "CN      1\n",
       "MT      1\n",
       "UA      1\n",
       "IQ      1\n",
       "HN      1\n",
       "BG      1\n",
       "HR      1\n",
       "PH      1\n",
       "NZ      1\n",
       "CH      1\n",
       "Name: employee_residence, dtype: int64"
      ]
     },
     "execution_count": 51,
     "metadata": {},
     "output_type": "execute_result"
    }
   ],
   "source": [
    "df['employee_residence'].value_counts()"
   ]
  },
  {
   "cell_type": "code",
   "execution_count": 52,
   "id": "4d529361",
   "metadata": {},
   "outputs": [
    {
     "data": {
      "text/plain": [
       "M    326\n",
       "L    198\n",
       "S     83\n",
       "Name: company_size, dtype: int64"
      ]
     },
     "execution_count": 52,
     "metadata": {},
     "output_type": "execute_result"
    }
   ],
   "source": [
    "df['company_size'].value_counts()"
   ]
  },
  {
   "cell_type": "code",
   "execution_count": 53,
   "id": "c1e7dd25",
   "metadata": {},
   "outputs": [
    {
     "data": {
      "text/plain": [
       "([<matplotlib.patches.Wedge at 0x2b06b0e8f10>,\n",
       "  <matplotlib.patches.Wedge at 0x2b06b0c66d0>,\n",
       "  <matplotlib.patches.Wedge at 0x2b06b0c6e20>],\n",
       " [Text(-0.1394256842916048, 1.1918726771596946, 'L'),\n",
       "  Text(-0.33883566866423465, -1.0465134445581008, 'S'),\n",
       "  Text(1.0000569882359693, -0.4581331905465946, 'M')],\n",
       " [Text(-0.08133164917010277, 0.6952590616764885, '54%'),\n",
       "  Text(-0.18481945563503704, -0.5708255152135094, '33%'),\n",
       "  Text(0.5454856299468923, -0.24989083120723338, '14%')])"
      ]
     },
     "execution_count": 53,
     "metadata": {},
     "output_type": "execute_result"
    },
    {
     "data": {
      "image/png": "[encoded data removed]",
      "text/plain": [
       "<Figure size 432x288 with 1 Axes>"
      ]
     },
     "metadata": {},
     "output_type": "display_data"
    }
   ],
   "source": [
    "plt.pie(df.company_size.value_counts(), labels = df.company_size.unique(), autopct =\"%.0f%%\", explode = [0.1,0,0])"
   ]
  },
  {
   "cell_type": "code",
   "execution_count": 54,
   "id": "8bfe71f9",
   "metadata": {},
   "outputs": [
    {
     "data": {
      "text/plain": [
       "company_size\n",
       "L    119242.994949\n",
       "M    116905.466258\n",
       "S     77632.674699\n",
       "Name: salary_in_usd, dtype: float64"
      ]
     },
     "execution_count": 54,
     "metadata": {},
     "output_type": "execute_result"
    }
   ],
   "source": [
    "df.groupby('company_size').salary_in_usd.mean().sort_values(ascending = False)"
   ]
  },
  {
   "cell_type": "code",
   "execution_count": 55,
   "id": "0630e263",
   "metadata": {},
   "outputs": [
    {
     "data": {
      "text/plain": [
       "senior\n",
       "1    174130.577778\n",
       "0    107346.852313\n",
       "Name: salary_in_usd, dtype: float64"
      ]
     },
     "execution_count": 55,
     "metadata": {},
     "output_type": "execute_result"
    }
   ],
   "source": [
    "df.groupby('senior').salary_in_usd.mean().sort_values(ascending = False)"
   ]
  },
  {
   "cell_type": "code",
   "execution_count": 56,
   "id": "1e8d15f4",
   "metadata": {},
   "outputs": [
    {
     "data": {
      "text/plain": [
       "roles\n",
       "OT    143292.714286\n",
       "DS    119125.479167\n",
       "DE    118976.598837\n",
       "ML    113026.132353\n",
       "RE    102924.764706\n",
       "AN     98851.718519\n",
       "AI     66135.571429\n",
       "CV     64695.777778\n",
       "Name: salary_in_usd, dtype: float64"
      ]
     },
     "execution_count": 56,
     "metadata": {},
     "output_type": "execute_result"
    }
   ],
   "source": [
    "df.groupby('roles').salary_in_usd.mean().sort_values(ascending = False)"
   ]
  },
  {
   "cell_type": "code",
   "execution_count": 58,
   "id": "1c3299a5",
   "metadata": {},
   "outputs": [
    {
     "data": {
      "text/plain": [
       "([<matplotlib.patches.Wedge at 0x2b06bc5f490>,\n",
       "  <matplotlib.patches.Wedge at 0x2b06bc5fc40>,\n",
       "  <matplotlib.patches.Wedge at 0x2b06bc6c3a0>,\n",
       "  <matplotlib.patches.Wedge at 0x2b06bc6cac0>,\n",
       "  <matplotlib.patches.Wedge at 0x2b06bc79220>,\n",
       "  <matplotlib.patches.Wedge at 0x2b06bc79970>,\n",
       "  <matplotlib.patches.Wedge at 0x2b06bc870d0>,\n",
       "  <matplotlib.patches.Wedge at 0x2b06bc877f0>],\n",
       " [Text(0.6546949930893298, 1.005671152029212, 'DS'),\n",
       "  Text(-1.0619019707610353, 0.2869916453380293, 'ML'),\n",
       "  Text(-0.2677097068969625, -1.066926198400406, 'DE'),\n",
       "  Text(0.792766234057853, -0.7625756999391796, 'AN'),\n",
       "  Text(1.0420417498646501, -0.35234782749297366, 'RE'),\n",
       "  Text(1.0798923458764296, -0.20936217738049492, 'AI'),\n",
       "  Text(1.0935092190995646, -0.11932136331881409, 'CV'),\n",
       "  Text(1.0992781677464165, -0.03984356806413565, 'OT')],\n",
       " [Text(0.38190541263544237, 0.5866415053503737, '32%'),\n",
       "  Text(-0.5792192567787465, 0.15654089745710686, '28%'),\n",
       "  Text(-0.14602347648925224, -0.5819597445820396, '22%'),\n",
       "  Text(0.4324179458497379, -0.41595038178500704, '11%'),\n",
       "  Text(0.5683864090170818, -0.19218972408707655, '3%'),\n",
       "  Text(0.5890321886598706, -0.11419755129845176, '1%'),\n",
       "  Text(0.5964595740543079, -0.0650843799920804, '1%'),\n",
       "  Text(0.5996062733162272, -0.021732855307710353, '1%')])"
      ]
     },
     "execution_count": 58,
     "metadata": {},
     "output_type": "execute_result"
    },
    {
     "data": {
      "image/png": "[encoded data removed]",
      "text/plain": [
       "<Figure size 432x288 with 1 Axes>"
      ]
     },
     "metadata": {},
     "output_type": "display_data"
    }
   ],
   "source": [
    "plt.pie(df[\"roles\"].value_counts(), labels = df[\"roles\"].unique(), autopct =\"%.0f%%\", explode = [0.1,0,0,0,0,0,0,0])"
   ]
  },
  {
   "cell_type": "code",
   "execution_count": 45,
   "id": "969beaa0",
   "metadata": {},
   "outputs": [
    {
     "data": {
      "text/plain": [
       "roles  senior\n",
       "DE     1         194256.636364\n",
       "DS     1         181174.285714\n",
       "OT     1         160162.600000\n",
       "AN     1         154434.833333\n",
       "ML     0         113921.303030\n",
       "DE     0         113833.242236\n",
       "DS     0         111505.450292\n",
       "RE     0         102924.764706\n",
       "OT     0         101118.000000\n",
       "AN     0          96266.457364\n",
       "ML     1          83485.500000\n",
       "AI     0          66135.571429\n",
       "CV     0          64695.777778\n",
       "Name: salary_in_usd, dtype: float64"
      ]
     },
     "execution_count": 45,
     "metadata": {},
     "output_type": "execute_result"
    }
   ],
   "source": [
    "df.groupby(by = ['roles','senior']).salary_in_usd.mean().sort_values(ascending = False)"
   ]
  },
  {
   "cell_type": "code",
   "execution_count": 48,
   "id": "f13fb98a",
   "metadata": {},
   "outputs": [
    {
     "data": {
      "text/plain": [
       "roles  experience_level\n",
       "DE     EX                  254288.571429\n",
       "OT     EX                  232500.000000\n",
       "DS     EX                  196375.818182\n",
       "AI     MI                  160000.000000\n",
       "OT     SE                  155946.333333\n",
       "DS     SE                  154984.071429\n",
       "DE     SE                  144328.848837\n",
       "ML     SE                  141548.107143\n",
       "AN     EX                  140000.000000\n",
       "RE     MI                  120112.000000\n",
       "AN     SE                  119264.414286\n",
       "ML     MI                   98624.000000\n",
       "CV     MI                   95746.000000\n",
       "RE     SE                   88859.400000\n",
       "DS     MI                   87721.376812\n",
       "RE     EN                   86132.000000\n",
       "DE     MI                   85505.656250\n",
       "ML     EN                   84127.928571\n",
       "       EX                   79039.000000\n",
       "AN     MI                   78704.071429\n",
       "CV     EN                   76721.800000\n",
       "DS     EN                   58590.035714\n",
       "AN     EN                   55050.111111\n",
       "AI     SE                   55000.000000\n",
       "DE     EN                   53287.466667\n",
       "OT     MI                   35105.000000\n",
       "CV     SE                   34302.333333\n",
       "AI     EN                   21987.250000\n",
       "Name: salary_in_usd, dtype: float64"
      ]
     },
     "execution_count": 48,
     "metadata": {},
     "output_type": "execute_result"
    }
   ],
   "source": [
    "df.groupby(by = ['roles','experience_level']).salary_in_usd.mean().sort_values(ascending = False)"
   ]
  },
  {
   "cell_type": "code",
   "execution_count": 49,
   "id": "cf7dcc1c",
   "metadata": {},
   "outputs": [
    {
     "data": {
      "text/plain": [
       "roles  company_size\n",
       "OT     M               200000.000000\n",
       "       L               154015.000000\n",
       "RE     M               145467.000000\n",
       "DS     M               129193.494624\n",
       "AI     L               127500.000000\n",
       "ML     L               126946.333333\n",
       "DE     M               122180.038095\n",
       "DS     L               121775.802817\n",
       "DE     L               120364.509434\n",
       "ML     M               110147.200000\n",
       "AN     L               107869.062500\n",
       "       M               102767.340659\n",
       "ML     S                99230.789474\n",
       "RE     L                96465.000000\n",
       "DE     S                89696.571429\n",
       "CV     S                83588.750000\n",
       "DS     S                78964.821429\n",
       "AI     M                66000.000000\n",
       "RE     S                53369.000000\n",
       "CV     M                49581.400000\n",
       "AN     S                45112.000000\n",
       "OT     S                32974.000000\n",
       "AI     S                25316.333333\n",
       "Name: salary_in_usd, dtype: float64"
      ]
     },
     "execution_count": 49,
     "metadata": {},
     "output_type": "execute_result"
    }
   ],
   "source": [
    "df.groupby(by = ['roles','company_size']).salary_in_usd.mean().sort_values(ascending = False)"
   ]
  },
  {
   "cell_type": "code",
   "execution_count": 51,
   "id": "d4ccd896",
   "metadata": {},
   "outputs": [
    {
     "data": {
      "text/plain": [
       "senior  company_size\n",
       "1       L               200843.136364\n",
       "        S               149832.100000\n",
       "        M               147615.846154\n",
       "0       M               115629.955272\n",
       "        L               109042.977273\n",
       "        S                67742.342466\n",
       "Name: salary_in_usd, dtype: float64"
      ]
     },
     "execution_count": 51,
     "metadata": {},
     "output_type": "execute_result"
    }
   ],
   "source": [
    "df.groupby(by = ['senior','company_size']).salary_in_usd.mean().sort_values(ascending = False)"
   ]
  },
  {
   "cell_type": "code",
   "execution_count": 56,
   "id": "79201f7f",
   "metadata": {},
   "outputs": [
    {
     "name": "stderr",
     "output_type": "stream",
     "text": [
      "C:\\Users\\Cypher\\anaconda3\\lib\\site-packages\\seaborn\\_decorators.py:36: FutureWarning: Pass the following variables as keyword args: x, y. From version 0.12, the only valid positional argument will be `data`, and passing other arguments without an explicit keyword will result in an error or misinterpretation.\n",
      "  warnings.warn(\n"
     ]
    },
    {
     "data": {
      "text/plain": [
       "<AxesSubplot:xlabel='experience_level', ylabel='salary_in_usd'>"
      ]
     },
     "execution_count": 56,
     "metadata": {},
     "output_type": "execute_result"
    },
    {
     "data": {
      "image/png": "[encoded data removed]",
      "text/plain": [
       "<Figure size 432x288 with 1 Axes>"
      ]
     },
     "metadata": {
      "needs_background": "light"
     },
     "output_type": "display_data"
    }
   ],
   "source": [
    "sns.barplot(df.experience_level,df.salary_in_usd)"
   ]
  },
  {
   "cell_type": "code",
   "execution_count": 59,
   "id": "3acd5750",
   "metadata": {},
   "outputs": [
    {
     "data": {
      "text/plain": [
       "<AxesSubplot:xlabel='company_size', ylabel='salary_in_usd'>"
      ]
     },
     "execution_count": 59,
     "metadata": {},
     "output_type": "execute_result"
    },
    {
     "data": {
      "image/png": "[encoded data removed]",
      "text/plain": [
       "<Figure size 432x288 with 1 Axes>"
      ]
     },
     "metadata": {
      "needs_background": "light"
     },
     "output_type": "display_data"
    }
   ],
   "source": [
    "sns.barplot(df.company_size,df.salary_in_usd)"
   ]
  },
  {
   "cell_type": "code",
   "execution_count": 60,
   "id": "d727b6e2",
   "metadata": {},
   "outputs": [
    {
     "name": "stderr",
     "output_type": "stream",
     "text": [
      "C:\\Users\\Cypher\\anaconda3\\lib\\site-packages\\seaborn\\_decorators.py:36: FutureWarning: Pass the following variables as keyword args: x, y. From version 0.12, the only valid positional argument will be `data`, and passing other arguments without an explicit keyword will result in an error or misinterpretation.\n",
      "  warnings.warn(\n"
     ]
    },
    {
     "data": {
      "text/plain": [
       "<AxesSubplot:xlabel='employment_type', ylabel='salary_in_usd'>"
      ]
     },
     "execution_count": 60,
     "metadata": {},
     "output_type": "execute_result"
    },
    {
     "data": {
      "image/png": "[encoded data removed]",
      "text/plain": [
       "<Figure size 432x288 with 1 Axes>"
      ]
     },
     "metadata": {
      "needs_background": "light"
     },
     "output_type": "display_data"
    }
   ],
   "source": [
    "sns.barplot(df.employment_type,df.salary_in_usd)"
   ]
  },
  {
   "cell_type": "code",
   "execution_count": 61,
   "id": "820b07a8",
   "metadata": {},
   "outputs": [
    {
     "name": "stderr",
     "output_type": "stream",
     "text": [
      "C:\\Users\\Cypher\\anaconda3\\lib\\site-packages\\seaborn\\_decorators.py:36: FutureWarning: Pass the following variables as keyword args: x, y. From version 0.12, the only valid positional argument will be `data`, and passing other arguments without an explicit keyword will result in an error or misinterpretation.\n",
      "  warnings.warn(\n"
     ]
    },
    {
     "data": {
      "text/plain": [
       "<AxesSubplot:xlabel='roles', ylabel='salary_in_usd'>"
      ]
     },
     "execution_count": 61,
     "metadata": {},
     "output_type": "execute_result"
    },
    {
     "data": {
      "image/png": "[encoded data removed]",
      "text/plain": [
       "<Figure size 432x288 with 1 Axes>"
      ]
     },
     "metadata": {
      "needs_background": "light"
     },
     "output_type": "display_data"
    }
   ],
   "source": [
    "sns.barplot(df.roles,df.salary_in_usd)"
   ]
  },
  {
   "cell_type": "code",
   "execution_count": 59,
   "id": "2662d55c",
   "metadata": {},
   "outputs": [
    {
     "data": {
      "text/html": [
       "<div>\n",
       "<style scoped>\n",
       "    .dataframe tbody tr th:only-of-type {\n",
       "        vertical-align: middle;\n",
       "    }\n",
       "\n",
       "    .dataframe tbody tr th {\n",
       "        vertical-align: top;\n",
       "    }\n",
       "\n",
       "    .dataframe thead th {\n",
       "        text-align: right;\n",
       "    }\n",
       "</style>\n",
       "<table border=\"1\" class=\"dataframe\">\n",
       "  <thead>\n",
       "    <tr style=\"text-align: right;\">\n",
       "      <th></th>\n",
       "      <th>work_year</th>\n",
       "      <th>experience_level</th>\n",
       "      <th>employment_type</th>\n",
       "      <th>job_title</th>\n",
       "      <th>salary_currency</th>\n",
       "      <th>salary_in_usd</th>\n",
       "      <th>employee_residence</th>\n",
       "      <th>remote_ratio</th>\n",
       "      <th>company_location</th>\n",
       "      <th>company_size</th>\n",
       "      <th>senior</th>\n",
       "      <th>roles</th>\n",
       "    </tr>\n",
       "  </thead>\n",
       "  <tbody>\n",
       "    <tr>\n",
       "      <th>74</th>\n",
       "      <td>2021</td>\n",
       "      <td>EX</td>\n",
       "      <td>FT</td>\n",
       "      <td>Head of Data</td>\n",
       "      <td>USD</td>\n",
       "      <td>235000</td>\n",
       "      <td>US</td>\n",
       "      <td>1.0</td>\n",
       "      <td>US</td>\n",
       "      <td>L</td>\n",
       "      <td>1</td>\n",
       "      <td>OT</td>\n",
       "    </tr>\n",
       "    <tr>\n",
       "      <th>160</th>\n",
       "      <td>2021</td>\n",
       "      <td>EX</td>\n",
       "      <td>FT</td>\n",
       "      <td>Head of Data</td>\n",
       "      <td>USD</td>\n",
       "      <td>230000</td>\n",
       "      <td>RU</td>\n",
       "      <td>0.5</td>\n",
       "      <td>RU</td>\n",
       "      <td>L</td>\n",
       "      <td>1</td>\n",
       "      <td>OT</td>\n",
       "    </tr>\n",
       "    <tr>\n",
       "      <th>165</th>\n",
       "      <td>2021</td>\n",
       "      <td>SE</td>\n",
       "      <td>FT</td>\n",
       "      <td>Data Specialist</td>\n",
       "      <td>USD</td>\n",
       "      <td>165000</td>\n",
       "      <td>US</td>\n",
       "      <td>1.0</td>\n",
       "      <td>US</td>\n",
       "      <td>L</td>\n",
       "      <td>0</td>\n",
       "      <td>OT</td>\n",
       "    </tr>\n",
       "    <tr>\n",
       "      <th>286</th>\n",
       "      <td>2021</td>\n",
       "      <td>SE</td>\n",
       "      <td>FT</td>\n",
       "      <td>Head of Data</td>\n",
       "      <td>EUR</td>\n",
       "      <td>102839</td>\n",
       "      <td>SI</td>\n",
       "      <td>1.0</td>\n",
       "      <td>SI</td>\n",
       "      <td>L</td>\n",
       "      <td>1</td>\n",
       "      <td>OT</td>\n",
       "    </tr>\n",
       "    <tr>\n",
       "      <th>455</th>\n",
       "      <td>2022</td>\n",
       "      <td>MI</td>\n",
       "      <td>FT</td>\n",
       "      <td>NLP Engineer</td>\n",
       "      <td>CNY</td>\n",
       "      <td>37236</td>\n",
       "      <td>US</td>\n",
       "      <td>0.5</td>\n",
       "      <td>US</td>\n",
       "      <td>L</td>\n",
       "      <td>0</td>\n",
       "      <td>OT</td>\n",
       "    </tr>\n",
       "    <tr>\n",
       "      <th>490</th>\n",
       "      <td>2022</td>\n",
       "      <td>SE</td>\n",
       "      <td>FT</td>\n",
       "      <td>Head of Data</td>\n",
       "      <td>USD</td>\n",
       "      <td>200000</td>\n",
       "      <td>MY</td>\n",
       "      <td>1.0</td>\n",
       "      <td>US</td>\n",
       "      <td>M</td>\n",
       "      <td>1</td>\n",
       "      <td>OT</td>\n",
       "    </tr>\n",
       "    <tr>\n",
       "      <th>501</th>\n",
       "      <td>2022</td>\n",
       "      <td>MI</td>\n",
       "      <td>FT</td>\n",
       "      <td>Head of Data</td>\n",
       "      <td>EUR</td>\n",
       "      <td>32974</td>\n",
       "      <td>EE</td>\n",
       "      <td>1.0</td>\n",
       "      <td>EE</td>\n",
       "      <td>S</td>\n",
       "      <td>1</td>\n",
       "      <td>OT</td>\n",
       "    </tr>\n",
       "  </tbody>\n",
       "</table>\n",
       "</div>"
      ],
      "text/plain": [
       "     work_year experience_level employment_type        job_title  \\\n",
       "74        2021               EX              FT     Head of Data   \n",
       "160       2021               EX              FT     Head of Data   \n",
       "165       2021               SE              FT  Data Specialist   \n",
       "286       2021               SE              FT     Head of Data   \n",
       "455       2022               MI              FT     NLP Engineer   \n",
       "490       2022               SE              FT     Head of Data   \n",
       "501       2022               MI              FT     Head of Data   \n",
       "\n",
       "    salary_currency  salary_in_usd employee_residence  remote_ratio  \\\n",
       "74              USD         235000                 US           1.0   \n",
       "160             USD         230000                 RU           0.5   \n",
       "165             USD         165000                 US           1.0   \n",
       "286             EUR         102839                 SI           1.0   \n",
       "455             CNY          37236                 US           0.5   \n",
       "490             USD         200000                 MY           1.0   \n",
       "501             EUR          32974                 EE           1.0   \n",
       "\n",
       "    company_location company_size  senior roles  \n",
       "74                US            L       1    OT  \n",
       "160               RU            L       1    OT  \n",
       "165               US            L       0    OT  \n",
       "286               SI            L       1    OT  \n",
       "455               US            L       0    OT  \n",
       "490               US            M       1    OT  \n",
       "501               EE            S       1    OT  "
      ]
     },
     "execution_count": 59,
     "metadata": {},
     "output_type": "execute_result"
    }
   ],
   "source": [
    "df[df.roles == \"OT\"]"
   ]
  },
  {
   "cell_type": "code",
   "execution_count": 63,
   "id": "c4104190",
   "metadata": {},
   "outputs": [
    {
     "name": "stderr",
     "output_type": "stream",
     "text": [
      "C:\\Users\\Cypher\\anaconda3\\lib\\site-packages\\seaborn\\_decorators.py:36: FutureWarning: Pass the following variables as keyword args: x, y. From version 0.12, the only valid positional argument will be `data`, and passing other arguments without an explicit keyword will result in an error or misinterpretation.\n",
      "  warnings.warn(\n"
     ]
    },
    {
     "data": {
      "text/plain": [
       "<AxesSubplot:xlabel='senior', ylabel='salary_in_usd'>"
      ]
     },
     "execution_count": 63,
     "metadata": {},
     "output_type": "execute_result"
    },
    {
     "data": {
      "image/png": "[encoded data removed]",
      "text/plain": [
       "<Figure size 432x288 with 1 Axes>"
      ]
     },
     "metadata": {
      "needs_background": "light"
     },
     "output_type": "display_data"
    }
   ],
   "source": [
    "sns.barplot(df.senior,df.salary_in_usd)"
   ]
  },
  {
   "cell_type": "markdown",
   "id": "455fd94b",
   "metadata": {},
   "source": []
  }
 ],
 "metadata": {
  "kernelspec": {
   "display_name": "Python 3 (ipykernel)",
   "language": "python",
   "name": "python3"
  },
  "language_info": {
   "codemirror_mode": {
    "name": "ipython",
    "version": 3
   },
   "file_extension": ".py",
   "mimetype": "text/x-python",
   "name": "python",
   "nbconvert_exporter": "python",
   "pygments_lexer": "ipython3",
   "version": "3.9.7"
  }
 },
 "nbformat": 4,
 "nbformat_minor": 5
}
